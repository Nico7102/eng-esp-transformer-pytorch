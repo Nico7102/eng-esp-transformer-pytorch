{
 "cells": [
  {
   "cell_type": "markdown",
   "metadata": {},
   "source": [
    "Primero importamos las librerías necesarias."
   ]
  },
  {
   "cell_type": "code",
   "execution_count": 1,
   "metadata": {},
   "outputs": [
    {
     "name": "stdout",
     "output_type": "stream",
     "text": [
      "Usando: cuda\n"
     ]
    }
   ],
   "source": [
    "# Si importar Field da problemas entonces hacer un downgrade de torchtext a la versión 0.6:\n",
    "# !pip install torchtext==0.6.0\n",
    "\n",
    "import gc\n",
    "import math\n",
    "import matplotlib.pyplot as plt\n",
    "import os\n",
    "import pandas as pd\n",
    "import torch\n",
    "import torch.nn as nn\n",
    "import torch.optim as optim\n",
    "from torch.nn import functional as F\n",
    "from nltk.translate.bleu_score import sentence_bleu\n",
    "from torchtext.data import Field, TabularDataset, BucketIterator\n",
    "import spacy # librería para NLP que funciona como tokenizador\n",
    "\n",
    "\n",
    "device =  torch.device('cuda' if torch.cuda.is_available() else 'cpu')\n",
    "print(\"Usando:\", device)"
   ]
  },
  {
   "cell_type": "markdown",
   "metadata": {},
   "source": [
    "Cargamos el Dataset con las frases en inglés y español. El dataset se obtuvo de https://www.kaggle.com/datasets/lonnieqin/englishspanish-translation-dataset.\n",
    "Separamos el 90% para entrenamiento y el 10% restante para probar el modelo. No separamos un conjunto de validación ya que no vamos a afinar los hiperparámetros."
   ]
  },
  {
   "cell_type": "code",
   "execution_count": 2,
   "metadata": {},
   "outputs": [],
   "source": [
    "# Correr esta celda solo la primera vez\n",
    "\n",
    "url = 'https://raw.githubusercontent.com/Nico7102/eng-esp-transformer-pytorch/main/data.csv'\n",
    "data = pd.read_csv(url)\n",
    "n = int(0.9*len(data))\n",
    "train_data = data[:n]\n",
    "test_data = data[n:]"
   ]
  },
  {
   "cell_type": "code",
   "execution_count": 3,
   "metadata": {},
   "outputs": [
    {
     "name": "stdout",
     "output_type": "stream",
     "text": [
      "carpeta data creada\n",
      "guardado en data\n"
     ]
    }
   ],
   "source": [
    "try:\n",
    "    os.mkdir('dataKaggle')\n",
    "    print('carpeta data creada')\n",
    "except OSError as error:\n",
    "    print('carpeta data ya existe')\n",
    "train_data.to_csv(\"dataKaggle/train.csv\", index=False)\n",
    "test_data.to_csv(\"dataKaggle/test.csv\", index=False)\n",
    "print('guardado en data')"
   ]
  },
  {
   "cell_type": "markdown",
   "metadata": {},
   "source": [
    "Cargamos el tokenizador y construimos los vocabularios para los textos en inglés y español. (demora aproximadamente 5 minutos por la longitud del dataset)"
   ]
  },
  {
   "cell_type": "code",
   "execution_count": 4,
   "metadata": {},
   "outputs": [
    {
     "name": "stdout",
     "output_type": "stream",
     "text": [
      "Construyendo splits\n",
      "Construyendo vocabularios\n"
     ]
    }
   ],
   "source": [
    "spacy_en = spacy.load(\"en_core_web_sm\")\n",
    "spacy_es = spacy.load(\"es_core_news_sm\")\n",
    "\n",
    "def tokenize_en(text):\n",
    "    return [token.text_with_ws for token in spacy_en.tokenizer(text)]\n",
    "\n",
    "def tokenize_es(text):\n",
    "    return [token.text_with_ws for token in spacy_es.tokenizer(text)]\n",
    "\n",
    "english = Field(tokenize=tokenize_en, init_token=\"<sos>\", eos_token=\"<eos>\")\n",
    "spanish = Field(tokenize=tokenize_es, init_token=\"<sos>\", eos_token=\"<eos>\")\n",
    "\n",
    "fields = {'english': ('src', english), 'spanish':('tgt', spanish)}\n",
    "\n",
    "print(\"Construyendo splits\")\n",
    "train_data, test_data = TabularDataset.splits(\n",
    "    path='dataKaggle',\n",
    "    train='train.csv',\n",
    "    test='test.csv',\n",
    "    format='csv',\n",
    "    fields=fields\n",
    ")\n",
    "\n",
    "print(\"Construyendo vocabularios\")\n",
    "english.build_vocab(train_data, max_size=16000, min_freq=1)\n",
    "spanish.build_vocab(train_data, max_size=16000, min_freq=1)"
   ]
  },
  {
   "cell_type": "markdown",
   "metadata": {},
   "source": [
    "Se implementa el Transformer del paper \"Attention Is All You Need\", incluyendo el encoding posicional mencionado en el mismo."
   ]
  },
  {
   "cell_type": "code",
   "execution_count": 5,
   "metadata": {},
   "outputs": [],
   "source": [
    "class PositionalEncoding(nn.Module):\n",
    "    def __init__(self, d_model, max_len):\n",
    "        super(PositionalEncoding, self).__init__()\n",
    "\n",
    "        pe = torch.zeros(max_len, d_model)\n",
    "        position = torch.arange(0, max_len, dtype=torch.float).unsqueeze(1)\n",
    "        div_term = torch.exp(torch.arange(0, d_model, 2).float() * (-math.log(10000.0) / d_model))\n",
    "        pe[:, 0::2] = torch.sin(position * div_term)\n",
    "        pe[:, 1::2] = torch.cos(position * div_term)\n",
    "        pe = pe.unsqueeze(0).transpose(0, 1)\n",
    "        self.register_buffer('pe', pe)\n",
    "\n",
    "    def forward(self, x): # x.shape = (len<=max_len, batch_size, d_model)\n",
    "        return x + self.pe[:x.size(0), :]\n",
    "\n",
    "class Transformer(nn.Module):\n",
    "    def __init__(\n",
    "        self,\n",
    "        src_tokenizer,\n",
    "        d_model,\n",
    "        src_vocab_size,\n",
    "        tgt_vocab_size,\n",
    "        src_pad_idx,\n",
    "        nhead,\n",
    "        num_encoder_layers,\n",
    "        num_decoder_layers,\n",
    "        dim_feedforward,\n",
    "        dropout,\n",
    "        max_len,\n",
    "        device\n",
    "    ):\n",
    "        super(Transformer, self).__init__()\n",
    "        self.device = device\n",
    "\n",
    "        self.tokenize = src_tokenizer\n",
    "\n",
    "        self.src_embedding = nn.Embedding(src_vocab_size, d_model)\n",
    "        self.tgt_embedding = nn.Embedding(tgt_vocab_size, d_model)\n",
    "        \n",
    "        self.pos_encoding = PositionalEncoding(d_model, max_len)\n",
    "\n",
    "        self.transformer = nn.Transformer(\n",
    "            d_model,\n",
    "            nhead,\n",
    "            num_encoder_layers,\n",
    "            num_decoder_layers,\n",
    "            dim_feedforward,\n",
    "            dropout,\n",
    "        )\n",
    "        \n",
    "        self.fc_out = nn.Linear(d_model, tgt_vocab_size)\n",
    "        self.dropout = nn.Dropout(dropout)\n",
    "        self.src_pad_idx = src_pad_idx\n",
    "\n",
    "    def make_src_mask(self, src):\n",
    "        src_mask = src.transpose(0, 1) == self.src_pad_idx\n",
    "        return src_mask.to(self.device)\n",
    "\n",
    "    def forward(self, src, tgt):\n",
    "        embed_src = self.dropout((self.pos_encoding(self.src_embedding(src))))\n",
    "        embed_tgt = self.dropout((self.pos_encoding(self.tgt_embedding(tgt))))\n",
    "\n",
    "        src_padding_mask = self.make_src_mask(src)\n",
    "        tgt_mask = self.transformer.generate_square_subsequent_mask(tgt.size(0)).to(self.device)\n",
    "\n",
    "        out = self.transformer(\n",
    "            embed_src,\n",
    "            embed_tgt,\n",
    "            src_key_padding_mask=src_padding_mask,\n",
    "            tgt_mask=tgt_mask,\n",
    "        )\n",
    "        del src_padding_mask\n",
    "        del tgt_mask\n",
    "        torch.cuda.empty_cache()\n",
    "        out = self.fc_out(out)\n",
    "        return out\n",
    "    \n",
    "    def translate(self, sentence, max_len_tr=100, return_tokens = False, use_best = False):\n",
    "        if type(sentence) == str:\n",
    "            tokens = self.tokenize(sentence)\n",
    "        else:\n",
    "            tokens = [token for token in sentence]\n",
    "        \n",
    "        tokens.insert(0, english.init_token)\n",
    "        tokens.append(english.eos_token)\n",
    "\n",
    "        text_to_indices = [english.vocab.stoi[token] for token in tokens]\n",
    "\n",
    "        src_tensor = torch.LongTensor(text_to_indices).unsqueeze(1).to(self.device)\n",
    "\n",
    "        outputs = [english.vocab.stoi[\"<sos>\"]]\n",
    "\n",
    "        for i in range(max_len_tr):\n",
    "            tgt_tensor = torch.LongTensor(outputs).unsqueeze(1).to(self.device)\n",
    "\n",
    "            with torch.no_grad():\n",
    "                logits = self(src_tensor, tgt_tensor)\n",
    "                del tgt_tensor\n",
    "                torch.cuda.empty_cache()\n",
    "\n",
    "            if use_best:\n",
    "                guess = logits.argmax(2)[-1, :].item()\n",
    "            else:\n",
    "                logits = logits[:, -1, :]\n",
    "                probs = F.softmax(logits, dim=-1)\n",
    "                guess = torch.multinomial(probs, num_samples=1)[-1, :].item()\n",
    "\n",
    "            if guess == spanish.vocab.stoi[\"<eos>\"]:\n",
    "                break\n",
    "\n",
    "            outputs.append(guess)\n",
    "            \n",
    "            # yield spanish.vocab.itos[guess] # iterador, regresa token por token estilo ChatGPT\n",
    "\n",
    "        del src_tensor\n",
    "        torch.cuda.empty_cache()\n",
    "        out_tokens = [spanish.vocab.itos[idx] for idx in outputs][1:]\n",
    "        if return_tokens:\n",
    "            return out_tokens\n",
    "        return ''.join(out_tokens)"
   ]
  },
  {
   "cell_type": "code",
   "execution_count": 6,
   "metadata": {},
   "outputs": [],
   "source": [
    "# hiperparámetros\n",
    "\n",
    "load_model = True\n",
    "save_model = True\n",
    "\n",
    "num_epochs = 30\n",
    "learning_rate = 3e-4\n",
    "batch_size = 512\n",
    "\n",
    "d_model = 512 // 2\n",
    "src_vocab_size = len(english.vocab)\n",
    "tgt_vocab_size = len(spanish.vocab)\n",
    "src_pad_idx = english.vocab.stoi[\"<pad>\"]\n",
    "nhead = 8 // 2\n",
    "num_encoder_layers = 6 // 2\n",
    "num_decoder_layers = 6 // 2\n",
    "dim_feedforward = 2048 // (2**3)\n",
    "dropout = 0.1\n",
    "max_len = 100\n",
    "n_eval = 100"
   ]
  },
  {
   "cell_type": "code",
   "execution_count": 7,
   "metadata": {},
   "outputs": [
    {
     "name": "stdout",
     "output_type": "stream",
     "text": [
      "Memoria total en GPU: 6143.69 MB\n",
      "Memoria reservada en GPU: 0.00 MB\n",
      "Memoria asignada en GPU: 0.00 MB\n"
     ]
    }
   ],
   "source": [
    "def delete_tensors(*tensor_names, details = False):\n",
    "    for name in tensor_names:\n",
    "        del globals()[name]\n",
    "        if details:\n",
    "            print_memory_details(name)\n",
    "    \n",
    "    torch.cuda.empty_cache()\n",
    "    \n",
    "\n",
    "def total_memory():\n",
    "    return(f\"Memoria total en GPU: {torch.cuda.get_device_properties(0).total_memory / 1024 / 1024:.2f} MB\")\n",
    "def memory_reserved():\n",
    "    return(f\"Memoria reservada en GPU: {torch.cuda.memory_reserved() / 1024 / 1024:.2f} MB\")\n",
    "def memory_allocated():\n",
    "    return(f\"Memoria asignada en GPU: {torch.cuda.memory_allocated() / 1024 / 1024:.2f} MB\")\n",
    "\n",
    "def print_memory_details(s=None):\n",
    "    if s is not None:\n",
    "        print(\"-----------------\",s,\"-----------------\",sep='')\n",
    "    print(total_memory())\n",
    "    print(memory_reserved())\n",
    "    print(memory_allocated())\n",
    "\n",
    "print_memory_details()"
   ]
  },
  {
   "cell_type": "code",
   "execution_count": 8,
   "metadata": {},
   "outputs": [
    {
     "name": "stderr",
     "output_type": "stream",
     "text": [
      "c:\\Users\\nicoc\\AppData\\Local\\Programs\\Python\\Python39\\lib\\site-packages\\torch\\nn\\modules\\transformer.py:286: UserWarning: enable_nested_tensor is True, but self.use_nested_tensor is False because encoder_layer.self_attn.batch_first was not True(use batch_first for better inference performance)\n",
      "  warnings.warn(f\"enable_nested_tensor is True, but self.use_nested_tensor is False because {why_not_sparsity_fast_path}\")\n",
      "c:\\Users\\nicoc\\AppData\\Local\\Programs\\Python\\Python39\\lib\\site-packages\\transformers\\utils\\generic.py:441: UserWarning: torch.utils._pytree._register_pytree_node is deprecated. Please use torch.utils._pytree.register_pytree_node instead.\n",
      "  _torch_pytree._register_pytree_node(\n",
      "c:\\Users\\nicoc\\AppData\\Local\\Programs\\Python\\Python39\\lib\\site-packages\\torch\\optim\\lr_scheduler.py:28: UserWarning: The verbose parameter is deprecated. Please use get_last_lr() to access the learning rate.\n",
      "  warnings.warn(\"The verbose parameter is deprecated. Please use get_last_lr() \"\n"
     ]
    }
   ],
   "source": [
    "torch.manual_seed(42)\n",
    "\n",
    "train_iterator, test_iterator = BucketIterator.splits(\n",
    "    (train_data, test_data),\n",
    "    batch_size=batch_size,\n",
    "    sort_within_batch=True,\n",
    "    sort_key=lambda x: len(x.src),\n",
    "    device=device,\n",
    ")\n",
    "\n",
    "model = Transformer(\n",
    "    tokenize_en,\n",
    "    d_model,\n",
    "    src_vocab_size,\n",
    "    tgt_vocab_size,\n",
    "    src_pad_idx,\n",
    "    nhead,\n",
    "    num_encoder_layers,\n",
    "    num_decoder_layers,\n",
    "    dim_feedforward,\n",
    "    dropout,\n",
    "    max_len,\n",
    "    device,\n",
    ").to(device)    \n",
    "\n",
    "optimizer = optim.Adam(model.parameters(), lr=learning_rate)\n",
    "\n",
    "scheduler = torch.optim.lr_scheduler.ReduceLROnPlateau(\n",
    "    optimizer, factor=0.1, patience=10, verbose=True\n",
    ")\n",
    "\n",
    "pad_idx = english.vocab.stoi[\"<pad>\"]\n",
    "criterion = nn.CrossEntropyLoss(ignore_index=pad_idx)"
   ]
  },
  {
   "cell_type": "code",
   "execution_count": 9,
   "metadata": {},
   "outputs": [],
   "source": [
    "def bleu(data, test_len, model):\n",
    "    bleu_score = []\n",
    "    idxs = torch.randint(0,len(data),(test_len,)).tolist()\n",
    "    for i in idxs:\n",
    "        example = data[i]\n",
    "        src = vars(example)[\"src\"][:max_len-2]\n",
    "        tgt = vars(example)[\"tgt\"]\n",
    "\n",
    "        with torch.no_grad():\n",
    "            prediction = model.translate(src, return_tokens=True)\n",
    "        bleu_score.append(sentence_bleu([tgt],prediction,weights=(1,)))\n",
    "\n",
    "    return torch.tensor(bleu_score,dtype=torch.float64).mean().item()"
   ]
  },
  {
   "cell_type": "code",
   "execution_count": 10,
   "metadata": {},
   "outputs": [
    {
     "name": "stdout",
     "output_type": "stream",
     "text": [
      "No se pudo cargar el modelo\n",
      "[Epoch 0 / 30]\n",
      "Guardando modelo...\n"
     ]
    },
    {
     "name": "stderr",
     "output_type": "stream",
     "text": [
      "c:\\Users\\nicoc\\AppData\\Local\\Programs\\Python\\Python39\\lib\\site-packages\\torch\\nn\\functional.py:5476: UserWarning: 1Torch was not compiled with flash attention. (Triggered internally at C:\\actions-runner\\_work\\pytorch\\pytorch\\builder\\windows\\pytorch\\aten\\src\\ATen\\native\\transformers\\cuda\\sdp_utils.cpp:263.)\n",
      "  attn_output = scaled_dot_product_attention(q, k, v, attn_mask, dropout_p, is_causal)\n"
     ]
    },
    {
     "name": "stdout",
     "output_type": "stream",
     "text": [
      "Accuracy en test: 0.0008000000000000003\n",
      "0.0008000000000000003\n",
      "[Epoch 1 / 30]\n",
      "Guardando modelo...\n",
      "Accuracy en test: 0.1693164776498999\n",
      "0.1693164776498999\n",
      "[Epoch 2 / 30]\n",
      "Guardando modelo...\n",
      "Accuracy en test: 0.2084894871552732\n",
      "0.2084894871552732\n",
      "[Epoch 3 / 30]\n",
      "Guardando modelo...\n",
      "Accuracy en test: 0.24313869679908812\n",
      "0.24313869679908812\n",
      "[Epoch 4 / 30]\n",
      "Guardando modelo...\n",
      "Accuracy en test: 0.2581599566872581\n",
      "0.2581599566872581\n",
      "[Epoch 5 / 30]\n",
      "Guardando modelo...\n",
      "Accuracy en test: 0.28052549056109305\n",
      "0.28052549056109305\n",
      "[Epoch 6 / 30]\n",
      "Guardando modelo...\n",
      "Accuracy en test: 0.29571865170470274\n",
      "0.29571865170470274\n",
      "[Epoch 7 / 30]\n",
      "Guardando modelo...\n",
      "Accuracy en test: 0.3141581135688576\n",
      "0.3141581135688576\n",
      "[Epoch 8 / 30]\n",
      "Guardando modelo...\n",
      "Accuracy en test: 0.3295039820862744\n",
      "0.3295039820862744\n",
      "[Epoch 9 / 30]\n",
      "Guardando modelo...\n",
      "Accuracy en test: 0.35385492679332187\n",
      "0.35385492679332187\n",
      "[Epoch 10 / 30]\n",
      "Guardando modelo...\n",
      "Accuracy en test: 0.3485001991976251\n",
      "0.3485001991976251\n",
      "[Epoch 11 / 30]\n",
      "Guardando modelo...\n",
      "Accuracy en test: 0.3676521642251908\n",
      "0.3676521642251908\n",
      "[Epoch 12 / 30]\n",
      "Guardando modelo...\n",
      "Accuracy en test: 0.37868251480604687\n",
      "0.37868251480604687\n",
      "[Epoch 13 / 30]\n",
      "Guardando modelo...\n",
      "Accuracy en test: 0.4004677499846644\n",
      "0.4004677499846644\n",
      "[Epoch 14 / 30]\n",
      "Guardando modelo...\n",
      "Accuracy en test: 0.4161185269861841\n",
      "0.4161185269861841\n",
      "[Epoch 15 / 30]\n",
      "Guardando modelo...\n",
      "Accuracy en test: 0.4114130603249452\n",
      "0.4114130603249452\n",
      "[Epoch 16 / 30]\n",
      "Guardando modelo...\n",
      "Accuracy en test: 0.3951179388735149\n",
      "0.3951179388735149\n",
      "[Epoch 17 / 30]\n",
      "Guardando modelo...\n",
      "Accuracy en test: 0.40690156847406733\n",
      "0.40690156847406733\n",
      "[Epoch 18 / 30]\n",
      "Guardando modelo...\n",
      "Accuracy en test: 0.4309181880742346\n",
      "0.4309181880742346\n",
      "[Epoch 19 / 30]\n",
      "Guardando modelo...\n",
      "Accuracy en test: 0.40942856747674256\n",
      "0.40942856747674256\n",
      "[Epoch 20 / 30]\n",
      "Guardando modelo...\n",
      "Accuracy en test: 0.383973476549628\n",
      "0.383973476549628\n",
      "[Epoch 21 / 30]\n",
      "Guardando modelo...\n",
      "Accuracy en test: 0.37941579005142373\n",
      "0.37941579005142373\n",
      "[Epoch 22 / 30]\n",
      "Guardando modelo...\n",
      "Accuracy en test: 0.4254501049082316\n",
      "0.4254501049082316\n",
      "[Epoch 23 / 30]\n",
      "Guardando modelo...\n",
      "Accuracy en test: 0.4298894095702889\n",
      "0.4298894095702889\n",
      "[Epoch 24 / 30]\n",
      "Guardando modelo...\n",
      "Accuracy en test: 0.4226824550483512\n",
      "0.4226824550483512\n",
      "[Epoch 25 / 30]\n",
      "Guardando modelo...\n",
      "Accuracy en test: 0.41372973100818444\n",
      "0.41372973100818444\n",
      "[Epoch 26 / 30]\n",
      "Guardando modelo...\n",
      "Accuracy en test: 0.47491698929065945\n",
      "0.47491698929065945\n",
      "[Epoch 27 / 30]\n",
      "Guardando modelo...\n",
      "Accuracy en test: 0.43185354829380107\n",
      "0.43185354829380107\n",
      "[Epoch 28 / 30]\n",
      "Guardando modelo...\n",
      "Accuracy en test: 0.42221202490697485\n",
      "0.42221202490697485\n",
      "[Epoch 29 / 30]\n",
      "Guardando modelo...\n",
      "Accuracy en test: 0.44104518207510773\n",
      "0.44104518207510773\n",
      "[Epoch 30 / 30]\n",
      "Guardando modelo...\n",
      "Accuracy en test: 0.44420882173769755\n",
      "0.44420882173769755\n"
     ]
    }
   ],
   "source": [
    "loaded_epoch = 0\n",
    "\n",
    "if load_model:\n",
    "    try:\n",
    "        checkpoint = torch.load(\"eng-esp-trainedKaggle.tar\")\n",
    "        model.load_state_dict(checkpoint[\"state_dict\"])\n",
    "        optimizer.load_state_dict(checkpoint[\"optimizer\"])\n",
    "        loaded_epoch = checkpoint[\"epoch\"]\n",
    "    except:\n",
    "        print(\"No se pudo cargar el modelo\")\n",
    "\n",
    "def save_and_eval(epoch):\n",
    "    print(f\"[Epoch {epoch} / {num_epochs}]\")\n",
    "\n",
    "    if save_model:\n",
    "        checkpoint = {\n",
    "            \"epoch\":epoch,\n",
    "            \"state_dict\": model.state_dict(),\n",
    "            \"optimizer\": optimizer.state_dict(),\n",
    "        }\n",
    "        print(\"Guardando modelo...\")\n",
    "        torch.save(checkpoint, \"eng-esp-modelKaggle.tar\")\n",
    "\n",
    "    model.eval()\n",
    "    score = bleu(test_data, n_eval, model)\n",
    "    print(\"Accuracy en test:\",score)\n",
    "    model.train()\n",
    "    return score\n",
    "\n",
    "acc = []\n",
    "for epoch in range(loaded_epoch, num_epochs):\n",
    "    acc.append(save_and_eval(epoch))\n",
    "    \n",
    "    losses = []\n",
    "\n",
    "    for batch_idx, batch in enumerate(train_iterator):\n",
    "        torch.cuda.empty_cache()\n",
    "        gc.collect()\n",
    "        batch_src = batch.src[:max_len,:].to(device)\n",
    "        batch_tgt = batch.tgt[:max_len,:].to(device)\n",
    "        \n",
    "        output = model(batch_src, batch_tgt[:-1, :])\n",
    "        delete_tensors('batch_src')\n",
    "\n",
    "        output = output.reshape(-1, output.shape[2])\n",
    "        batch_tgt = batch_tgt[1:].reshape(-1)\n",
    "\n",
    "        optimizer.zero_grad()\n",
    "        loss = criterion(output, batch_tgt)\n",
    "        delete_tensors('batch_tgt','output')\n",
    "        losses.append(loss.item())\n",
    "        loss.backward()\n",
    "        torch.nn.utils.clip_grad_norm_(model.parameters(), max_norm=1)\n",
    "        optimizer.step()\n",
    "        del batch\n",
    "\n",
    "    mean_loss = sum(losses) / len(losses)\n",
    "    scheduler.step(mean_loss)\n",
    "\n",
    "acc.append(save_and_eval(num_epochs))\n"
   ]
  },
  {
   "cell_type": "code",
   "execution_count": 11,
   "metadata": {},
   "outputs": [
    {
     "data": {
      "text/plain": [
       "[<matplotlib.lines.Line2D at 0x28afd729dc0>]"
      ]
     },
     "execution_count": 11,
     "metadata": {},
     "output_type": "execute_result"
    },
    {
     "data": {
      "image/png": "[encoded data removed]",
      "text/plain": [
       "<Figure size 640x480 with 1 Axes>"
      ]
     },
     "metadata": {},
     "output_type": "display_data"
    }
   ],
   "source": [
    "plt.plot(range(num_epochs+1),acc)"
   ]
  },
  {
   "cell_type": "code",
   "execution_count": 48,
   "metadata": {},
   "outputs": [
    {
     "name": "stdout",
     "output_type": "stream",
     "text": [
      "Hola, ¿cómo estás?\n"
     ]
    }
   ],
   "source": [
    "# sentence = \"He is tall and strong.\"\n",
    "sentence = \"Hello, how are you?\"\n",
    "\n",
    "print(model.translate(sentence, use_best=True))"
   ]
  }
 ],
 "metadata": {
  "kernelspec": {
   "display_name": "Python 3",
   "language": "python",
   "name": "python3"
  },
  "language_info": {
   "codemirror_mode": {
    "name": "ipython",
    "version": 3
   },
   "file_extension": ".py",
   "mimetype": "text/x-python",
   "name": "python",
   "nbconvert_exporter": "python",
   "pygments_lexer": "ipython3",
   "version": "3.9.13"
  }
 },
 "nbformat": 4,
 "nbformat_minor": 2
}
